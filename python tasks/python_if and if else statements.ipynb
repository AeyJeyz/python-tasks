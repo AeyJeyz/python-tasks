{
 "cells": [
  {
   "cell_type": "markdown",
   "metadata": {},
   "source": [
    "#  if and if else statments"
   ]
  },
  {
   "cell_type": "code",
   "execution_count": 1,
   "metadata": {},
   "outputs": [
    {
     "name": "stdout",
     "output_type": "stream",
     "text": [
      "string contains alphabets\n"
     ]
    }
   ],
   "source": [
    "a = \"sfff\"\n",
    "if(a.isalpha() == 1) :\n",
    "    print(\"string contains alphabets\")"
   ]
  },
  {
   "cell_type": "code",
   "execution_count": 2,
   "metadata": {},
   "outputs": [
    {
     "name": "stdout",
     "output_type": "stream",
     "text": [
      "1\n"
     ]
    }
   ],
   "source": [
    "abc = \"hey there\"\n",
    "if abc is not abc.isalnum():\n",
    "    print(\"1\")"
   ]
  },
  {
   "cell_type": "code",
   "execution_count": 3,
   "metadata": {},
   "outputs": [
    {
     "name": "stdout",
     "output_type": "stream",
     "text": [
      "yes\n"
     ]
    }
   ],
   "source": [
    "abc = \"high\";xyz = \"high\"\n",
    "if(abc == xyz):\n",
    "    print(\"yes\")"
   ]
  },
  {
   "cell_type": "code",
   "execution_count": 4,
   "metadata": {},
   "outputs": [
    {
     "name": "stdout",
     "output_type": "stream",
     "text": [
      "right\n"
     ]
    }
   ],
   "source": [
    "if True == 1:\n",
    "    print(\"right\")"
   ]
  },
  {
   "cell_type": "code",
   "execution_count": 5,
   "metadata": {},
   "outputs": [
    {
     "name": "stdout",
     "output_type": "stream",
     "text": [
      "nope\n"
     ]
    }
   ],
   "source": [
    "if True == 34:\n",
    "    print(\"yes\")\n",
    "print(\"nope\")"
   ]
  },
  {
   "cell_type": "code",
   "execution_count": 6,
   "metadata": {},
   "outputs": [
    {
     "name": "stdout",
     "output_type": "stream",
     "text": [
      "bye\n"
     ]
    }
   ],
   "source": [
    "if(True == id(True)):\n",
    "    print(\"ok\")\n",
    "print(\"bye\")"
   ]
  },
  {
   "cell_type": "code",
   "execution_count": 7,
   "metadata": {},
   "outputs": [
    {
     "name": "stdout",
     "output_type": "stream",
     "text": [
      "a == b\n",
      "81735744\n"
     ]
    },
    {
     "data": {
      "text/plain": [
       "81736192"
      ]
     },
     "execution_count": 7,
     "metadata": {},
     "output_type": "execute_result"
    }
   ],
   "source": [
    " a = {1, 2, 3}\n",
    " b = a.copy()\n",
    "if a == b:\n",
    "    print(\"a == b\")\n",
    "\n",
    "if a is b:\n",
    "    print(\"a is b\")\n",
    "print(id(a))\n",
    "id(b)"
   ]
  },
  {
   "cell_type": "code",
   "execution_count": 8,
   "metadata": {},
   "outputs": [
    {
     "name": "stdout",
     "output_type": "stream",
     "text": [
      "a == b\n",
      "a is b\n",
      "81735968\n"
     ]
    },
    {
     "data": {
      "text/plain": [
       "81735968"
      ]
     },
     "execution_count": 8,
     "metadata": {},
     "output_type": "execute_result"
    }
   ],
   "source": [
    " a = {1, 2, 3}\n",
    " b = a\n",
    "if a == b:\n",
    "    print(\"a == b\")\n",
    "\n",
    "if a is b:\n",
    "    print(\"a is b\")\n",
    "print(id(a))\n",
    "id(b)    "
   ]
  },
  {
   "cell_type": "code",
   "execution_count": 9,
   "metadata": {},
   "outputs": [
    {
     "name": "stdout",
     "output_type": "stream",
     "text": [
      "Amazing\n"
     ]
    }
   ],
   "source": [
    "eg_1 = \"ABCdefGHI\"\n",
    "if eg_1[0:3:1] == eg_1[-9:-6:1]:\n",
    "    print('Amazing')    "
   ]
  },
  {
   "cell_type": "code",
   "execution_count": 10,
   "metadata": {},
   "outputs": [
    {
     "name": "stdout",
     "output_type": "stream",
     "text": [
      "good\n"
     ]
    }
   ],
   "source": [
    "eg = 'Hey there'\n",
    "if(type(eg) == str):\n",
    "    print('good')"
   ]
  },
  {
   "cell_type": "markdown",
   "metadata": {},
   "source": [
    "# if else"
   ]
  },
  {
   "cell_type": "code",
   "execution_count": 11,
   "metadata": {},
   "outputs": [
    {
     "name": "stdout",
     "output_type": "stream",
     "text": [
      "8791372027648\n",
      "8791372027648\n",
      "True\n"
     ]
    }
   ],
   "source": [
    "a = 256\n",
    "b = 256\n",
    "print(id(a))\n",
    "print(id(b))\n",
    "if(a is b):\n",
    "    print(True)\n",
    "else:\n",
    "    print(False)\n",
    "    "
   ]
  },
  {
   "cell_type": "code",
   "execution_count": 12,
   "metadata": {},
   "outputs": [
    {
     "name": "stdout",
     "output_type": "stream",
     "text": [
      "81529008\n",
      "81528848\n",
      "False\n"
     ]
    }
   ],
   "source": [
    "a = 257\n",
    "b = 257\n",
    "print(id(a))\n",
    "print(id(b))\n",
    "if(a is b):\n",
    "    print(True)\n",
    "else:\n",
    "    print(False)\n",
    "    "
   ]
  },
  {
   "cell_type": "code",
   "execution_count": 13,
   "metadata": {},
   "outputs": [
    {
     "name": "stdout",
     "output_type": "stream",
     "text": [
      "True\n"
     ]
    }
   ],
   "source": [
    "a = 45\n",
    "b = a\n",
    "if(a is b):\n",
    "    print(True)\n",
    "else:\n",
    "    print(False)"
   ]
  },
  {
   "cell_type": "code",
   "execution_count": 14,
   "metadata": {},
   "outputs": [
    {
     "name": "stdout",
     "output_type": "stream",
     "text": [
      "Enter input string -abc\n",
      "Your input is in the string\n"
     ]
    }
   ],
   "source": [
    "alpha = \"abcdefg\"\n",
    "eg = input(\"Enter input string -\")\n",
    "if alpha.find(eg) != -1:\n",
    "    print(\"Your input is in the string\")\n",
    "else:\n",
    "    print(\"Your input is not in the string\")"
   ]
  },
  {
   "cell_type": "code",
   "execution_count": 15,
   "metadata": {},
   "outputs": [
    {
     "name": "stdout",
     "output_type": "stream",
     "text": [
      "Enter Password : tyu\n",
      "Retype Password for confirmation : tyu\n",
      "Password succesfully confirmed\n"
     ]
    }
   ],
   "source": [
    "password = input(\"Enter Password : \")\n",
    "verify = input(\"Retype Password for confirmation : \")\n",
    "if password != verify:\n",
    "    print(\"Password Doesn't matched\")\n",
    "else :\n",
    "    print(\"Password succesfully confirmed\")"
   ]
  },
  {
   "cell_type": "code",
   "execution_count": 16,
   "metadata": {},
   "outputs": [
    {
     "name": "stdout",
     "output_type": "stream",
     "text": [
      "0 is generated\n"
     ]
    }
   ],
   "source": [
    "import random\n",
    "\n",
    "x=random.randint(0,1)\n",
    "if x == 0:\n",
    "    print(\"0 is generated\")\n",
    "else:\n",
    "    print(\"1 is generated\")"
   ]
  },
  {
   "cell_type": "code",
   "execution_count": 17,
   "metadata": {},
   "outputs": [
    {
     "name": "stdout",
     "output_type": "stream",
     "text": [
      "guess the number (choose 0 or 1) : 0\n",
      "Correct Guess\n"
     ]
    }
   ],
   "source": [
    "import random\n",
    "eg = random.randint(0,1)\n",
    "gs = int(input('guess the number (choose 0 or 1) : '))\n",
    "if eg == gs:\n",
    "    print(\"Correct Guess\")\n",
    "else:\n",
    "    print(\"Wrong Guess\")"
   ]
  },
  {
   "cell_type": "code",
   "execution_count": 18,
   "metadata": {},
   "outputs": [
    {
     "name": "stdout",
     "output_type": "stream",
     "text": [
      "Your Bad Person\n"
     ]
    }
   ],
   "source": [
    "import random\n",
    "eg = random.randint(0,1)\n",
    "if (eg == 1):\n",
    "    print(\"Your Nice Person\")\n",
    "else:\n",
    "    print(\"Your Bad Person\")"
   ]
  },
  {
   "cell_type": "code",
   "execution_count": 19,
   "metadata": {},
   "outputs": [],
   "source": [
    "def inputs (a = None,b = None):\n",
    "    try:\n",
    "        print(f\"{a} is maximum\" if a>b else f\"{b} is maximum\" if b>a else \"both numbers are equals\")\n",
    "    except TypeError as e:\n",
    "        print(e)\n",
    "        print(\"Hence both inputs must be of same type\")"
   ]
  },
  {
   "cell_type": "code",
   "execution_count": 20,
   "metadata": {},
   "outputs": [
    {
     "name": "stdout",
     "output_type": "stream",
     "text": [
      "5 is maximum\n"
     ]
    }
   ],
   "source": [
    "inputs('5','3')"
   ]
  }
 ],
 "metadata": {
  "kernelspec": {
   "display_name": "Python 3",
   "language": "python",
   "name": "python3"
  },
  "language_info": {
   "codemirror_mode": {
    "name": "ipython",
    "version": 3
   },
   "file_extension": ".py",
   "mimetype": "text/x-python",
   "name": "python",
   "nbconvert_exporter": "python",
   "pygments_lexer": "ipython3",
   "version": "3.8.3"
  }
 },
 "nbformat": 4,
 "nbformat_minor": 4
}
